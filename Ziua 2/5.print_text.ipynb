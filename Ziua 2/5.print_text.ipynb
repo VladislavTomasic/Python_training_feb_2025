{
 "cells": [
  {
   "cell_type": "code",
   "execution_count": 2,
   "metadata": {},
   "outputs": [
    {
     "name": "stdout",
     "output_type": "stream",
     "text": [
      "I'm taking the python exam\n",
      "I'm taking the python exam\n"
     ]
    }
   ],
   "source": [
    "print(\"I'm taking the python exam\")\n",
    "print('I\\'m taking the python exam')"
   ]
  },
  {
   "cell_type": "code",
   "execution_count": 3,
   "metadata": {},
   "outputs": [
    {
     "name": "stdout",
     "output_type": "stream",
     "text": [
      "titanic|was|a|huge|ship*but sadly it sank\n"
     ]
    }
   ],
   "source": [
    "print(\"titanic\", \"was\",\"a\",\"huge\",\"ship\",sep=\"|\",end=\"*\"); print(\"but\",\"sadly\",\"it\",\"sank\")"
   ]
  },
  {
   "cell_type": "code",
   "execution_count": 4,
   "metadata": {},
   "outputs": [
    {
     "name": "stdout",
     "output_type": "stream",
     "text": [
      "args= (11, 29, -31, 20) type(args) <class 'tuple'>\n",
      "kargs= {'culoare': 'verde', 'miros': 'placut, temperatura=20'} type(kargs) <class 'dict'>\n",
      "None\n"
     ]
    }
   ],
   "source": [
    "def fun(*args, **kargs):\n",
    "    print(\"args=\", args, \"type(args)\", type(args))\n",
    "    print(\"kargs=\", kargs, \"type(kargs)\", type(kargs))\n",
    "\n",
    "print(fun(11,29,-31,20, culoare=\"verde\",miros=\"placut, temperatura=20\"))"
   ]
  }
 ],
 "metadata": {
  "kernelspec": {
   "display_name": "Python 3.8.10 64-bit",
   "language": "python",
   "name": "python3"
  },
  "language_info": {
   "codemirror_mode": {
    "name": "ipython",
    "version": 3
   },
   "file_extension": ".py",
   "mimetype": "text/x-python",
   "name": "python",
   "nbconvert_exporter": "python",
   "pygments_lexer": "ipython3",
   "version": "3.8.10"
  },
  "orig_nbformat": 4,
  "vscode": {
   "interpreter": {
    "hash": "ca4ca7b067c1df730d5ff87af37a86f0adf7ce0ec5c3598421698b0881dd43f9"
   }
  }
 },
 "nbformat": 4,
 "nbformat_minor": 2
}
