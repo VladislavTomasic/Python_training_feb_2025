{
 "cells": [
  {
   "cell_type": "code",
   "execution_count": 7,
   "metadata": {},
   "outputs": [
    {
     "name": "stdout",
     "output_type": "stream",
     "text": [
      "None\n",
      "50.25\n"
     ]
    }
   ],
   "source": [
    "import random\n",
    "\n",
    "def functia_a() -> None:\n",
    "    pass\n",
    "\n",
    "\n",
    "def functia_b() -> int:\n",
    "    return random.randint(1,20)\n",
    "\n",
    "\n",
    "#type_hints\n",
    "def functia_c(param1:int, param2:int) ->float:\n",
    "    return param1/param2\n",
    "\n",
    "print(functia_a())\n",
    "functia_b()\n",
    "print(functia_c(100.5,2))\n",
    "\n"
   ]
  }
 ],
 "metadata": {
  "kernelspec": {
   "display_name": "Python 3.8.10 64-bit",
   "language": "python",
   "name": "python3"
  },
  "language_info": {
   "codemirror_mode": {
    "name": "ipython",
    "version": 3
   },
   "file_extension": ".py",
   "mimetype": "text/x-python",
   "name": "python",
   "nbconvert_exporter": "python",
   "pygments_lexer": "ipython3",
   "version": "3.8.10"
  },
  "orig_nbformat": 4,
  "vscode": {
   "interpreter": {
    "hash": "ca4ca7b067c1df730d5ff87af37a86f0adf7ce0ec5c3598421698b0881dd43f9"
   }
  }
 },
 "nbformat": 4,
 "nbformat_minor": 2
}
