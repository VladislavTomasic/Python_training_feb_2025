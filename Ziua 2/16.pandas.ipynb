{
 "cells": [
  {
   "cell_type": "code",
   "execution_count": 1,
   "metadata": {},
   "outputs": [],
   "source": [
    "import pandas as pd\n"
   ]
  },
  {
   "cell_type": "code",
   "execution_count": 6,
   "metadata": {},
   "outputs": [
    {
     "name": "stdout",
     "output_type": "stream",
     "text": [
      "<class 'pandas.core.series.Series'> 0      alb\n",
      "1    verde\n",
      "2    negru\n",
      "dtype: object\n"
     ]
    }
   ],
   "source": [
    "l=[\"alb\",\"verde\",\"negru\"]\n",
    "sr=pd.Series(l)\n",
    "print(type(sr),sr)"
   ]
  },
  {
   "cell_type": "code",
   "execution_count": 7,
   "metadata": {},
   "outputs": [
    {
     "name": "stdout",
     "output_type": "stream",
     "text": [
      "<class 'pandas.core.series.Series'> 0    1\n",
      "1    2\n",
      "2    3\n",
      "dtype: int64\n"
     ]
    }
   ],
   "source": [
    "l=[1,2,3]\n",
    "sr=pd.Series(l)\n",
    "print(type(sr),sr)"
   ]
  },
  {
   "cell_type": "code",
   "execution_count": 9,
   "metadata": {},
   "outputs": [
    {
     "name": "stdout",
     "output_type": "stream",
     "text": [
      "<class 'pandas.core.series.Series'> RO    17\n",
      "FR    70\n",
      "DE    80\n",
      "dtype: int64\n"
     ]
    }
   ],
   "source": [
    "tari=[\"RO\",\"FR\",\"DE\"]\n",
    "populatie = [17,70,80]\n",
    "sr=pd.Series(data=populatie, index=tari)\n",
    "print(type(sr),sr)"
   ]
  },
  {
   "cell_type": "code",
   "execution_count": 10,
   "metadata": {},
   "outputs": [
    {
     "name": "stdout",
     "output_type": "stream",
     "text": [
      "<class 'pandas.core.series.Series'> 17    RO\n",
      "70    FR\n",
      "80    DE\n",
      "dtype: object\n"
     ]
    }
   ],
   "source": [
    "tari=[\"RO\",\"FR\",\"DE\"]\n",
    "populatie = [17,70,80]\n",
    "sr=pd.Series(index=populatie, data=tari)\n",
    "print(type(sr),sr)"
   ]
  },
  {
   "cell_type": "code",
   "execution_count": 21,
   "metadata": {},
   "outputs": [
    {
     "data": {
      "text/plain": [
       "DE    160.0\n",
       "FR     70.0\n",
       "MD     17.0\n",
       "RO     17.0\n",
       "TR     70.0\n",
       "dtype: float64"
      ]
     },
     "execution_count": 21,
     "metadata": {},
     "output_type": "execute_result"
    }
   ],
   "source": [
    "date1 ={\n",
    "    \"RO\":17, \"FR\":70, \"DE\":80\n",
    "}\n",
    "\n",
    "\n",
    "sr1=pd.Series(date1)\n",
    "sr1\n",
    "\n",
    "date2 ={\n",
    "    \"MD\":17, \"TR\":70, \"DE\":80\n",
    "}\n",
    "\n",
    "\n",
    "sr2=pd.Series(date2)\n",
    "sr2\n",
    "\n",
    "sr1.add(sr2, fill_value=0)"
   ]
  }
 ],
 "metadata": {
  "kernelspec": {
   "display_name": "Python 3.8.10 64-bit",
   "language": "python",
   "name": "python3"
  },
  "language_info": {
   "codemirror_mode": {
    "name": "ipython",
    "version": 3
   },
   "file_extension": ".py",
   "mimetype": "text/x-python",
   "name": "python",
   "nbconvert_exporter": "python",
   "pygments_lexer": "ipython3",
   "version": "3.8.10"
  },
  "orig_nbformat": 4,
  "vscode": {
   "interpreter": {
    "hash": "ca4ca7b067c1df730d5ff87af37a86f0adf7ce0ec5c3598421698b0881dd43f9"
   }
  }
 },
 "nbformat": 4,
 "nbformat_minor": 2
}
