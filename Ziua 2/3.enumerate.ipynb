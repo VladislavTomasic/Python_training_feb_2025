{
 "cells": [
  {
   "cell_type": "code",
   "execution_count": 1,
   "metadata": {},
   "outputs": [
    {
     "name": "stdout",
     "output_type": "stream",
     "text": [
      "Apples\n",
      "Oranges\n",
      "Bananas\n"
     ]
    }
   ],
   "source": [
    "fruits=[\"Apples\",\"Oranges\",\"Bananas\"]\n",
    "for i in fruits:\n",
    "    print(i)"
   ]
  },
  {
   "cell_type": "code",
   "execution_count": 4,
   "metadata": {},
   "outputs": [
    {
     "name": "stdout",
     "output_type": "stream",
     "text": [
      "i= 0 fruits= Apples\n",
      "i= 1 fruits= Oranges\n",
      "i= 2 fruits= Bananas\n"
     ]
    }
   ],
   "source": [
    "fruits=[\"Apples\",\"Oranges\",\"Bananas\"]\n",
    "for i in range(len(fruits)):\n",
    "    print(\"i=\",i,\"fruits=\",fruits[i])"
   ]
  },
  {
   "cell_type": "code",
   "execution_count": 6,
   "metadata": {},
   "outputs": [
    {
     "name": "stdout",
     "output_type": "stream",
     "text": [
      "(0, 'Apples')\n",
      "(1, 'Oranges')\n",
      "(2, 'Bananas')\n"
     ]
    }
   ],
   "source": [
    "fruits=[\"Apples\",\"Oranges\",\"Bananas\"]\n",
    "for i in enumerate(fruits):\n",
    "    print(i)"
   ]
  },
  {
   "cell_type": "code",
   "execution_count": 7,
   "metadata": {},
   "outputs": [
    {
     "name": "stdout",
     "output_type": "stream",
     "text": [
      "Index= 0 Element= Apples\n",
      "Index= 1 Element= Oranges\n",
      "Index= 2 Element= Bananas\n"
     ]
    }
   ],
   "source": [
    "fruits=[\"Apples\",\"Oranges\",\"Bananas\"]\n",
    "\n",
    "for index, element in enumerate(fruits):\n",
    "    print(\"Index=\", index, \"Element=\", element)"
   ]
  },
  {
   "cell_type": "code",
   "execution_count": 8,
   "metadata": {},
   "outputs": [
    {
     "name": "stdout",
     "output_type": "stream",
     "text": [
      "[(0, 'Apples'), (1, 'Oranges'), (2, 'Bananas')]\n"
     ]
    }
   ],
   "source": [
    "fruits=[\"Apples\",\"Oranges\",\"Bananas\"]\n",
    "\n",
    "\n",
    "print(list(enumerate(fruits)))"
   ]
  }
 ],
 "metadata": {
  "kernelspec": {
   "display_name": "Python 3.8.10 64-bit",
   "language": "python",
   "name": "python3"
  },
  "language_info": {
   "codemirror_mode": {
    "name": "ipython",
    "version": 3
   },
   "file_extension": ".py",
   "mimetype": "text/x-python",
   "name": "python",
   "nbconvert_exporter": "python",
   "pygments_lexer": "ipython3",
   "version": "3.8.10"
  },
  "orig_nbformat": 4,
  "vscode": {
   "interpreter": {
    "hash": "ca4ca7b067c1df730d5ff87af37a86f0adf7ce0ec5c3598421698b0881dd43f9"
   }
  }
 },
 "nbformat": 4,
 "nbformat_minor": 2
}
