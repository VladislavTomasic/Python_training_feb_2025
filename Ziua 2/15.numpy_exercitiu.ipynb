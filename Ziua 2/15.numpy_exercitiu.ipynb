{
  "cells": [
    {
      "cell_type": "code",
      "execution_count": 5,
      "metadata": {},
      "outputs": [
        {
          "name": "stdout",
          "output_type": "stream",
          "text": [
            "[0. 0. 0. 0. 0. 0. 0. 0. 0. 0.]\n"
          ]
        }
      ],
      "source": [
        "import numpy as np\n",
        "# %%\n",
        "# ######## Exercitiul ################\n",
        "# Creați un vector cu 10 elemente întregi, toate fiind egale cu 0.\n",
        "\n",
        "vect=np.zeros(10)\n",
        "print(vect)\n"
      ]
    },
    {
      "cell_type": "code",
      "execution_count": 6,
      "metadata": {},
      "outputs": [
        {
          "name": "stdout",
          "output_type": "stream",
          "text": [
            "[1. 1. 1. 1. 1. 1. 1. 1. 1. 1.]\n"
          ]
        }
      ],
      "source": [
        "######### Exercitiul ################\n",
        "# Creați un vector cu 10 elemente întregi, toate fiind egale cu 1.\n",
        "\n",
        "vect1=np.ones(10)\n",
        "print(vect1)\n",
        "\n"
      ]
    },
    {
      "cell_type": "code",
      "execution_count": 16,
      "metadata": {},
      "outputs": [
        {
          "name": "stdout",
          "output_type": "stream",
          "text": [
            "[0 1 2 3 4 5 6 7 8 9]\n"
          ]
        }
      ],
      "source": [
        "######### Exercitiul ################\n",
        "# Creați un vector cu elemente întregi de la 0 la 9.\n",
        "\n",
        "\n",
        "vect2=np.arange(1,11) - 1\n",
        "print(vect2 )"
      ]
    },
    {
      "cell_type": "code",
      "execution_count": 15,
      "metadata": {},
      "outputs": [
        {
          "name": "stdout",
          "output_type": "stream",
          "text": [
            "[10 11 12 13 14 15 16 17 18 19 20 21 22 23 24 25 26 27 28 29]\n"
          ]
        }
      ],
      "source": [
        "######### Exercitiul ################\n",
        "# Creați un vector cu elemente întregi de la 10 la 29.\n",
        "\n",
        "vect3=np.arange(10,30) \n",
        "print(vect3 )\n"
      ]
    },
    {
      "cell_type": "code",
      "execution_count": 29,
      "metadata": {},
      "outputs": [
        {
          "name": "stdout",
          "output_type": "stream",
          "text": [
            "[9 8 7 6 5 4 3 2 1 0]\n"
          ]
        }
      ],
      "source": [
        "######### Exercitiul ################\n",
        "# Creați un vector cu elemente întregi de la 0 la 9 în ordine inversă.\n",
        "\n",
        "vect4=np.arange(1,11) - 1\n",
        "vect4=np.sort(vect4)[::-1]\n",
        "print(vect4 )\n",
        "\n"
      ]
    },
    {
      "cell_type": "code",
      "execution_count": 43,
      "metadata": {},
      "outputs": [
        {
          "name": "stdout",
          "output_type": "stream",
          "text": [
            "[0.0611086  0.4127406  0.77471919 0.014449   0.29217505 0.41243\n",
            " 0.3073014  0.85369381 0.50690209 0.78243724]\n"
          ]
        }
      ],
      "source": [
        "######### Exercitiul ################\n",
        "# Creați un vector cu 10 elemente aleatoare între 0 și 1.\n",
        "\n",
        "vect_random = np.random.rand(10)\n",
        "print(vect_random)\n"
      ]
    },
    {
      "cell_type": "code",
      "execution_count": 36,
      "metadata": {},
      "outputs": [
        {
          "name": "stdout",
          "output_type": "stream",
          "text": [
            "[1 2 3 4 5 6 7 8 9]\n",
            "[[1 2 3]\n",
            " [4 5 6]\n",
            " [7 8 9]]\n"
          ]
        }
      ],
      "source": [
        "######### Exercitiul ################\n",
        "# Creați o matrice 3x3 cu elemente întregi aleatoare între 0 și 9.\n",
        "\n",
        "vect4=np.arange(1,10)\n",
        "print(vect4)\n",
        "matrice=vect4.reshape(3,3)\n",
        "print(matrice)"
      ]
    },
    {
      "cell_type": "code",
      "execution_count": 39,
      "metadata": {},
      "outputs": [
        {
          "name": "stdout",
          "output_type": "stream",
          "text": [
            "[[1. 0. 0. 0. 0.]\n",
            " [0. 1. 0. 0. 0.]\n",
            " [0. 0. 1. 0. 0.]\n",
            " [0. 0. 0. 1. 0.]\n",
            " [0. 0. 0. 0. 1.]]\n"
          ]
        }
      ],
      "source": [
        "######### Exercitiul ################\n",
        "# Creați o matrice identitate 5x5.\n",
        "matrice2=np.identity(5)\n",
        "print(matrice2)\n",
        "\n",
        "\n"
      ]
    },
    {
      "cell_type": "code",
      "execution_count": 41,
      "metadata": {},
      "outputs": [
        {
          "name": "stdout",
          "output_type": "stream",
          "text": [
            "Matrix 1:\n",
            "[[0.73006551 0.38304076 0.35489533]\n",
            " [0.40948494 0.75041337 0.2553623 ]\n",
            " [0.57136206 0.61667694 0.65812797]]\n",
            "\n",
            "Matrix 2:\n",
            "[[0.9490837  0.26467137 0.64842302]\n",
            " [0.22125772 0.25341371 0.06072113]\n",
            " [0.35857341 0.5142618  0.79017077]]\n",
            "\n",
            "Matrix Sum:\n",
            "[[1.67914921 0.64771213 1.00331835]\n",
            " [0.63074265 1.00382708 0.31608343]\n",
            " [0.92993546 1.13093874 1.44829874]]\n"
          ]
        }
      ],
      "source": [
        "######### Exercitiul ################\n",
        "# Adunați două matrici de dimensiuni egale (de exemplu, 3x3).\n",
        "\n",
        "import numpy as np\n",
        "\n",
        "# Creează două matrici 3x3 cu elemente aleatoare\n",
        "matrix1 = np.random.rand(3, 3)\n",
        "matrix2 = np.random.rand(3, 3)\n",
        "\n",
        "# Adună cele două matrici\n",
        "matrix_sum = np.add(matrix1, matrix2)\n",
        "\n",
        "print(\"Matrix 1:\")\n",
        "print(matrix1)\n",
        "print(\"\\nMatrix 2:\")\n",
        "print(matrix2)\n",
        "print(\"\\nMatrix Sum:\")\n",
        "print(matrix_sum)\n"
      ]
    },
    {
      "cell_type": "code",
      "execution_count": 42,
      "metadata": {},
      "outputs": [
        {
          "name": "stdout",
          "output_type": "stream",
          "text": [
            "Matrix 1:\n",
            "[[0.90065019 0.85016523 0.8710925 ]\n",
            " [0.30070219 0.74318983 0.69726232]\n",
            " [0.03863581 0.65416829 0.59695276]]\n",
            "\n",
            "Matrix 2:\n",
            "[[0.43562669 0.49604792 0.55910598]\n",
            " [0.47479081 0.98415946 0.11853977]\n",
            " [0.874782   0.97200936 0.72188193]]\n",
            "\n",
            "Matrix Sum:\n",
            "[[0.39234726 0.4217227  0.48703303]\n",
            " [0.14277064 0.7314173  0.08265331]\n",
            " [0.03379791 0.6358577  0.43092941]]\n"
          ]
        }
      ],
      "source": [
        "######### Exercitiul ################\n",
        "# Înmulțiți două matrici de dimensiuni corespunzătoare (de  exemplu, 2x3 și 3x2).\n",
        "\n",
        "# Creează două matrici 3x3 cu elemente aleatoare\n",
        "matrix1 = np.random.rand(3, 3)\n",
        "matrix2 = np.random.rand(3, 3)\n",
        "\n",
        "# Inmultirea cele două matrici\n",
        "matrix_sum = np.multiply(matrix1, matrix2)\n",
        "\n",
        "print(\"Matrix 1:\")\n",
        "print(matrix1)\n",
        "print(\"\\nMatrix 2:\")\n",
        "print(matrix2)\n",
        "print(\"\\nMatrix Sum:\")\n",
        "print(matrix_sum)\n"
      ]
    },
    {
      "cell_type": "code",
      "execution_count": 45,
      "metadata": {},
      "outputs": [
        {
          "name": "stdout",
          "output_type": "stream",
          "text": [
            "Matrix 1:\n",
            "[[0.56522442 0.07160351 0.53569582 0.28619333]\n",
            " [0.98976794 0.87876096 0.01378996 0.24984468]\n",
            " [0.96172371 0.59869923 0.26768011 0.8991428 ]]\n",
            "\n",
            "Matrix 2:\n",
            "[[0.56522442 0.98976794 0.96172371]\n",
            " [0.07160351 0.87876096 0.59869923]\n",
            " [0.53569582 0.01378996 0.26768011]\n",
            " [0.28619333 0.24984468 0.8991428 ]]\n"
          ]
        }
      ],
      "source": [
        "######### Exercitiul ################\n",
        "# Transpuneți o matrice (de exemplu, 3x4).\n",
        "matrix1 = np.random.rand(3, 4)\n",
        "matrix2=matrix1.transpose()\n",
        "\n",
        "\n",
        "print(\"Matrix 1:\")\n",
        "print(matrix1)\n",
        "print(\"\\nMatrix 2:\")\n",
        "print(matrix2)"
      ]
    },
    {
      "cell_type": "code",
      "execution_count": 61,
      "metadata": {},
      "outputs": [
        {
          "name": "stdout",
          "output_type": "stream",
          "text": [
            "[[1 4 1 5 7]]\n",
            "[[1 4 1 5 7]] 7\n"
          ]
        }
      ],
      "source": [
        "######### Exercitiul ################\n",
        "# Găsiți valoarea maximă dintr-un vector.\n",
        "\n",
        "arr=np.random.randint(0,10,(1,5))\n",
        "print(arr)\n",
        "print(arr, arr.max())"
      ]
    },
    {
      "cell_type": "code",
      "execution_count": 64,
      "metadata": {},
      "outputs": [
        {
          "name": "stdout",
          "output_type": "stream",
          "text": [
            "[[6 6 4 1 0]]\n",
            "[[6 6 4 1 0]] 0\n"
          ]
        }
      ],
      "source": [
        "######### Exercitiul ################\n",
        "# Găsiți indicele valorii maxime dintr-un vector.\n",
        "\n",
        "arr=np.random.randint(0,10,(1,5))\n",
        "print(arr)\n",
        "print(arr, arr.argmax())"
      ]
    },
    {
      "cell_type": "code",
      "execution_count": 65,
      "metadata": {},
      "outputs": [
        {
          "name": "stdout",
          "output_type": "stream",
          "text": [
            "3\n"
          ]
        },
        {
          "ename": "AttributeError",
          "evalue": "'int' object has no attribute 'max'",
          "output_type": "error",
          "traceback": [
            "\u001b[1;31m---------------------------------------------------------------------------\u001b[0m",
            "\u001b[1;31mAttributeError\u001b[0m                            Traceback (most recent call last)",
            "Cell \u001b[1;32mIn [65], line 6\u001b[0m\n\u001b[0;32m      4\u001b[0m arr\u001b[39m=\u001b[39mnp\u001b[39m.\u001b[39mrandom\u001b[39m.\u001b[39mrandint(\u001b[39m0\u001b[39m,\u001b[39m5\u001b[39m)\n\u001b[0;32m      5\u001b[0m \u001b[39mprint\u001b[39m(arr)\n\u001b[1;32m----> 6\u001b[0m \u001b[39mprint\u001b[39m(arr, arr\u001b[39m.\u001b[39;49mmax())\n\u001b[0;32m      8\u001b[0m \u001b[39m# %%\u001b[39;00m\n",
            "\u001b[1;31mAttributeError\u001b[0m: 'int' object has no attribute 'max'"
          ]
        }
      ],
      "source": [
        "######### Exercitiul ################\n"
      ]
    },
    {
      "cell_type": "code",
      "execution_count": null,
      "metadata": {},
      "outputs": [],
      "source": []
    },
    {
      "cell_type": "code",
      "execution_count": null,
      "metadata": {},
      "outputs": [],
      "source": [
        "# Găsiți media aritmetică a valorilor dintr-o matrice.\n",
        "\n",
        "arr=np.random.randint(0,5)\n",
        "print(arr)\n",
        "print(arr, arr.max())\n",
        "\n",
        "# %%"
      ]
    }
  ],
  "metadata": {
    "anaconda-cloud": {},
    "kernelspec": {
      "display_name": "Python 3.8.10 64-bit",
      "language": "python",
      "name": "python3"
    },
    "language_info": {
      "codemirror_mode": {
        "name": "ipython",
        "version": 3
      },
      "file_extension": ".py",
      "mimetype": "text/x-python",
      "name": "python",
      "nbconvert_exporter": "python",
      "pygments_lexer": "ipython3",
      "version": "3.8.10"
    },
    "vscode": {
      "interpreter": {
        "hash": "ca4ca7b067c1df730d5ff87af37a86f0adf7ce0ec5c3598421698b0881dd43f9"
      }
    }
  },
  "nbformat": 4,
  "nbformat_minor": 4
}
