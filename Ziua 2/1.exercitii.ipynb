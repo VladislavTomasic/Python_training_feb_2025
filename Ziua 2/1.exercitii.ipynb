{
 "cells": [
  {
   "cell_type": "code",
   "execution_count": 1,
   "metadata": {},
   "outputs": [
    {
     "name": "stdout",
     "output_type": "stream",
     "text": [
      "Bananas\n"
     ]
    }
   ],
   "source": [
    "fruits=(\"Apples\",\"Orange\",\"Bananas\")\n",
    "#unpacking\n",
    "fruti1, fruit2, fruit3 = fruits\n",
    "print(fruit3)"
   ]
  },
  {
   "cell_type": "code",
   "execution_count": 7,
   "metadata": {},
   "outputs": [
    {
     "name": "stdout",
     "output_type": "stream",
     "text": [
      "['Apples', 'Bananas', 'Orange']\n",
      "('Apples', 'Orange', 'Bananas')\n",
      "['B', 'a', 'a', 'a', 'n', 'n', 's']\n"
     ]
    }
   ],
   "source": [
    "fruits=(\"Apples\",\"Orange\",\"Bananas\")\n",
    "\n",
    "print(sorted(fruits))\n",
    "print(fruits)\n",
    "print(sorted(fruit3))"
   ]
  },
  {
   "cell_type": "code",
   "execution_count": 13,
   "metadata": {},
   "outputs": [
    {
     "name": "stdout",
     "output_type": "stream",
     "text": [
      "['Apples', 'Bananas', 'Orange']\n",
      "['Apples', 'Orange', 'Bananas']\n",
      "['B', 'a', 'a', 'a', 'n', 'n', 's']\n",
      "['Apples', 'Bananas', 'Orange']\n"
     ]
    }
   ],
   "source": [
    "fruits=[\"Apples\",\"Orange\",\"Bananas\"]\n",
    "\n",
    "print(sorted(fruits))\n",
    "print(fruits)\n",
    "print(sorted(fruit3))\n",
    "\n",
    "fruits.sort()\n",
    "print(fruits)"
   ]
  },
  {
   "cell_type": "code",
   "execution_count": 11,
   "metadata": {},
   "outputs": [
    {
     "data": {
      "text/plain": [
       "['e', 'h', 'l', 'l', 'o']"
      ]
     },
     "execution_count": 11,
     "metadata": {},
     "output_type": "execute_result"
    }
   ],
   "source": [
    "sorted(\"hello\")"
   ]
  }
 ],
 "metadata": {
  "kernelspec": {
   "display_name": "Python 3.8.10 64-bit",
   "language": "python",
   "name": "python3"
  },
  "language_info": {
   "codemirror_mode": {
    "name": "ipython",
    "version": 3
   },
   "file_extension": ".py",
   "mimetype": "text/x-python",
   "name": "python",
   "nbconvert_exporter": "python",
   "pygments_lexer": "ipython3",
   "version": "3.8.10"
  },
  "orig_nbformat": 4,
  "vscode": {
   "interpreter": {
    "hash": "ca4ca7b067c1df730d5ff87af37a86f0adf7ce0ec5c3598421698b0881dd43f9"
   }
  }
 },
 "nbformat": 4,
 "nbformat_minor": 2
}
