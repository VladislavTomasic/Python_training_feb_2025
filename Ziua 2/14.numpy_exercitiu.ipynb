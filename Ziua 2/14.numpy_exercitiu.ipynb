{
 "cells": [
  {
   "cell_type": "code",
   "execution_count": 27,
   "metadata": {},
   "outputs": [
    {
     "name": "stdout",
     "output_type": "stream",
     "text": [
      "[1904 1908 1912 1916 1920 1924 1928 1932 1936 1940 1944 1948 1952 1956\n",
      " 1960 1964 1968 1972 1976 1980 1984 1988 1992 1996 2000 2004 2008 2012\n",
      " 2016 2020 2024]\n"
     ]
    }
   ],
   "source": [
    "import numpy as np\n",
    "\n",
    "startDate=1900\n",
    "\n",
    "endDate=2025\n",
    "\n",
    "arr=np.arange(startDate,endDate)\n",
    "divizibile_cu_400 = arr % 400==0\n",
    "divizibile_cu_4 = arr % 4==0\n",
    "nedivizibile_cu_100 = arr % 100!=0\n",
    "\n",
    "arr=arr[(divizibile_cu_400) | (divizibile_cu_4 & nedivizibile_cu_100) ]\n",
    "print(arr)\n",
    "\n",
    "\n"
   ]
  },
  {
   "cell_type": "code",
   "execution_count": null,
   "metadata": {},
   "outputs": [],
   "source": []
  }
 ],
 "metadata": {
  "kernelspec": {
   "display_name": "Python 3.8.10 64-bit",
   "language": "python",
   "name": "python3"
  },
  "language_info": {
   "codemirror_mode": {
    "name": "ipython",
    "version": 3
   },
   "file_extension": ".py",
   "mimetype": "text/x-python",
   "name": "python",
   "nbconvert_exporter": "python",
   "pygments_lexer": "ipython3",
   "version": "3.8.10"
  },
  "orig_nbformat": 4,
  "vscode": {
   "interpreter": {
    "hash": "ca4ca7b067c1df730d5ff87af37a86f0adf7ce0ec5c3598421698b0881dd43f9"
   }
  }
 },
 "nbformat": 4,
 "nbformat_minor": 2
}
