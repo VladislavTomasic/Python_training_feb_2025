{
 "cells": [
  {
   "cell_type": "code",
   "execution_count": 8,
   "metadata": {},
   "outputs": [],
   "source": [
    "import os"
   ]
  },
  {
   "cell_type": "code",
   "execution_count": 2,
   "metadata": {},
   "outputs": [
    {
     "name": "stdout",
     "output_type": "stream",
     "text": [
      "<class 'nt.ScandirIterator'> <nt.ScandirIterator object at 0x0000015CCE359430>\n"
     ]
    }
   ],
   "source": [
    "with os.scandir() as entries:\n",
    "    print(type(entries),entries)\n",
    "    "
   ]
  },
  {
   "cell_type": "code",
   "execution_count": 7,
   "metadata": {},
   "outputs": [
    {
     "name": "stdout",
     "output_type": "stream",
     "text": [
      "<class 'nt.DirEntry'> <DirEntry '1.hello.py'> 1.hello.py\n",
      "<class 'nt.DirEntry'> <DirEntry '10.clase.py'> 10.clase.py\n",
      "<class 'nt.DirEntry'> <DirEntry '11.clasa.ipynb'> 11.clasa.ipynb\n",
      "<class 'nt.DirEntry'> <DirEntry '11.clasa.py'> 11.clasa.py\n",
      "<class 'nt.DirEntry'> <DirEntry '12.exercitii.py'> 12.exercitii.py\n",
      "<class 'nt.DirEntry'> <DirEntry '13.while.py'> 13.while.py\n",
      "<class 'nt.DirEntry'> <DirEntry '14.try_except.py'> 14.try_except.py\n",
      "<class 'nt.DirEntry'> <DirEntry '15.exercitii.py'> 15.exercitii.py\n",
      "<class 'nt.DirEntry'> <DirEntry '17.exercitiu.py'> 17.exercitiu.py\n",
      "<class 'nt.DirEntry'> <DirEntry '18.exercitii.py'> 18.exercitii.py\n",
      "<class 'nt.DirEntry'> <DirEntry '19.exercitii.py'> 19.exercitii.py\n",
      "<class 'nt.DirEntry'> <DirEntry '2.calcul.py'> 2.calcul.py\n",
      "<class 'nt.DirEntry'> <DirEntry '20.citire_fisier'> 20.citire_fisier\n",
      "<class 'nt.DirEntry'> <DirEntry '21.operatii.ipynb'> 21.operatii.ipynb\n",
      "<class 'nt.DirEntry'> <DirEntry '22.format_string.py'> 22.format_string.py\n",
      "<class 'nt.DirEntry'> <DirEntry '23.lucru_cu_fisiere.ipynb'> 23.lucru_cu_fisiere.ipynb\n",
      "<class 'nt.DirEntry'> <DirEntry '24.string_multilinie.py'> 24.string_multilinie.py\n",
      "<class 'nt.DirEntry'> <DirEntry '25.documentatie.py'> 25.documentatie.py\n",
      "<class 'nt.DirEntry'> <DirEntry '3.calcul.ipynb'> 3.calcul.ipynb\n",
      "<class 'nt.DirEntry'> <DirEntry '4.pep.py'> 4.pep.py\n",
      "<class 'nt.DirEntry'> <DirEntry '5.exercitii.ipynb'> 5.exercitii.ipynb\n",
      "<class 'nt.DirEntry'> <DirEntry '5.exercitii.py'> 5.exercitii.py\n",
      "<class 'nt.DirEntry'> <DirEntry '6.pass.py'> 6.pass.py\n",
      "<class 'nt.DirEntry'> <DirEntry '8.exercitii.ipynb'> 8.exercitii.ipynb\n",
      "<class 'nt.DirEntry'> <DirEntry '9.conditie.py'> 9.conditie.py\n",
      "<class 'nt.DirEntry'> <DirEntry 'numere.txt'> numere.txt\n",
      "<class 'nt.DirEntry'> <DirEntry 'operatii.txt'> operatii.txt\n",
      "<class 'nt.DirEntry'> <DirEntry 'operatii_rezultat.txt'> operatii_rezultat.txt\n"
     ]
    }
   ],
   "source": [
    "with os.scandir() as entries:\n",
    "    for entry in entries:\n",
    "        print(type(entry), entry, entry.name)"
   ]
  },
  {
   "cell_type": "code",
   "execution_count": 9,
   "metadata": {},
   "outputs": [],
   "source": [
    "os.mkdir(\"your_folder\")"
   ]
  },
  {
   "cell_type": "code",
   "execution_count": 12,
   "metadata": {},
   "outputs": [],
   "source": [
    "os.makedirs(\"05/03/2025\")"
   ]
  },
  {
   "cell_type": "code",
   "execution_count": 15,
   "metadata": {},
   "outputs": [
    {
     "ename": "FileNotFoundError",
     "evalue": "[WinError 2] The system cannot find the file specified: '___fisierul_meu.py' -> '___fisierul_tau.py'",
     "output_type": "error",
     "traceback": [
      "\u001b[1;31m---------------------------------------------------------------------------\u001b[0m",
      "\u001b[1;31mFileNotFoundError\u001b[0m                         Traceback (most recent call last)",
      "Cell \u001b[1;32mIn [15], line 1\u001b[0m\n\u001b[1;32m----> 1\u001b[0m os\u001b[39m.\u001b[39;49mrename(\u001b[39m\"\u001b[39;49m\u001b[39m___fisierul_meu.py\u001b[39;49m\u001b[39m\"\u001b[39;49m,\u001b[39m\"\u001b[39;49m\u001b[39m___fisierul_tau.py\u001b[39;49m\u001b[39m\"\u001b[39;49m)\n",
      "\u001b[1;31mFileNotFoundError\u001b[0m: [WinError 2] The system cannot find the file specified: '___fisierul_meu.py' -> '___fisierul_tau.py'"
     ]
    }
   ],
   "source": [
    "os.rename(\"___fisierul_meu.py\",\"___fisierul_tau.py\")"
   ]
  }
 ],
 "metadata": {
  "kernelspec": {
   "display_name": "Python 3.8.10 64-bit",
   "language": "python",
   "name": "python3"
  },
  "language_info": {
   "codemirror_mode": {
    "name": "ipython",
    "version": 3
   },
   "file_extension": ".py",
   "mimetype": "text/x-python",
   "name": "python",
   "nbconvert_exporter": "python",
   "pygments_lexer": "ipython3",
   "version": "3.8.10"
  },
  "orig_nbformat": 4,
  "vscode": {
   "interpreter": {
    "hash": "ca4ca7b067c1df730d5ff87af37a86f0adf7ce0ec5c3598421698b0881dd43f9"
   }
  }
 },
 "nbformat": 4,
 "nbformat_minor": 2
}
