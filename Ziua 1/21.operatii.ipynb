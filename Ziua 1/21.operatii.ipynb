{
 "cells": [
  {
   "cell_type": "code",
   "execution_count": 5,
   "metadata": {},
   "outputs": [
    {
     "name": "stdout",
     "output_type": "stream",
     "text": [
      "['1+2', '7*8', '122/11', '3**2']\n"
     ]
    }
   ],
   "source": [
    "with open(\"operatii.txt\") as freader:\n",
    "    text = freader.read()\n",
    "    print(text.split())"
   ]
  },
  {
   "cell_type": "code",
   "execution_count": 8,
   "metadata": {},
   "outputs": [
    {
     "name": "stdout",
     "output_type": "stream",
     "text": [
      "['1+2\\n', '7*8\\n', '122/11\\n', '3**2']\n"
     ]
    }
   ],
   "source": [
    "with open(\"operatii.txt\") as freader:\n",
    "    text = freader.readlines()\n",
    "    print(text)"
   ]
  },
  {
   "cell_type": "code",
   "execution_count": 9,
   "metadata": {},
   "outputs": [
    {
     "name": "stdout",
     "output_type": "stream",
     "text": [
      "['1+2', '7*8', '122/11', '3**2']\n"
     ]
    }
   ],
   "source": [
    "with open(\"operatii.txt\") as freader:\n",
    "    text = freader.read()\n",
    "    print(text.splitlines())"
   ]
  },
  {
   "cell_type": "code",
   "execution_count": 11,
   "metadata": {},
   "outputs": [],
   "source": [
    "with open(\"operatii.txt\") as freader:\n",
    "    text = freader.read()\n",
    "    operatii = text.splitlines()"
   ]
  },
  {
   "cell_type": "code",
   "execution_count": 15,
   "metadata": {},
   "outputs": [
    {
     "name": "stdout",
     "output_type": "stream",
     "text": [
      "1+2 = 3\n",
      "7*8 = 56\n",
      "122/11 = 11.090909090909092\n",
      "3**2 = 9\n"
     ]
    }
   ],
   "source": [
    "for op in operatii:\n",
    "    print(op, \"=\", eval(op))"
   ]
  },
  {
   "cell_type": "code",
   "execution_count": 19,
   "metadata": {},
   "outputs": [],
   "source": [
    "with open(\"operatii_rezultat.txt\", \"w\") as fwriter:\n",
    "    for op in operatii:\n",
    "        fwriter.write(f\"{op}= {eval(op)} \\n\")  \n",
    "    \n",
    "\n"
   ]
  }
 ],
 "metadata": {
  "kernelspec": {
   "display_name": "Python 3.8.10 64-bit",
   "language": "python",
   "name": "python3"
  },
  "language_info": {
   "codemirror_mode": {
    "name": "ipython",
    "version": 3
   },
   "file_extension": ".py",
   "mimetype": "text/x-python",
   "name": "python",
   "nbconvert_exporter": "python",
   "pygments_lexer": "ipython3",
   "version": "3.8.10"
  },
  "orig_nbformat": 4,
  "vscode": {
   "interpreter": {
    "hash": "ca4ca7b067c1df730d5ff87af37a86f0adf7ce0ec5c3598421698b0881dd43f9"
   }
  }
 },
 "nbformat": 4,
 "nbformat_minor": 2
}
