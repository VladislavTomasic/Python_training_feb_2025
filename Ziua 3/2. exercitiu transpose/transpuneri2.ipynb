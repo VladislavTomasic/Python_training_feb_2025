{
 "cells": [
  {
   "cell_type": "code",
   "execution_count": 1,
   "metadata": {},
   "outputs": [],
   "source": [
    "import csv"
   ]
  },
  {
   "cell_type": "code",
   "execution_count": 9,
   "metadata": {},
   "outputs": [
    {
     "name": "stdout",
     "output_type": "stream",
     "text": [
      "[['Rosu', ' Negru', ' Verde'], ['Sange', ' Costum', ' Iarba']]\n",
      "[('Rosu', 'Sange'), (' Negru', ' Costum'), (' Verde', ' Iarba')]\n"
     ]
    }
   ],
   "source": [
    "filename=\"culori.csv\"\n",
    "filename_output=\"culori_transpuse.csv\"\n",
    "\n",
    "with open(filename, \"r\") as file_reader, open(filename_output,\"w\") as file_writer:\n",
    "    csv_file_reader=csv.reader(file_reader)\n",
    "    continut=list(csv_file_reader)\n",
    "    print(continut)\n",
    "    continut_transpus = list(zip(*continut))\n",
    "    print(continut_transpus)\n",
    "\n",
    "    csv_file_writer=csv.writer(file_writer)\n",
    "    csv_file_writer.writerows(continut_transpus)"
   ]
  }
 ],
 "metadata": {
  "kernelspec": {
   "display_name": "Python 3.8.10 64-bit",
   "language": "python",
   "name": "python3"
  },
  "language_info": {
   "codemirror_mode": {
    "name": "ipython",
    "version": 3
   },
   "file_extension": ".py",
   "mimetype": "text/x-python",
   "name": "python",
   "nbconvert_exporter": "python",
   "pygments_lexer": "ipython3",
   "version": "3.8.10"
  },
  "orig_nbformat": 4,
  "vscode": {
   "interpreter": {
    "hash": "ca4ca7b067c1df730d5ff87af37a86f0adf7ce0ec5c3598421698b0881dd43f9"
   }
  }
 },
 "nbformat": 4,
 "nbformat_minor": 2
}
