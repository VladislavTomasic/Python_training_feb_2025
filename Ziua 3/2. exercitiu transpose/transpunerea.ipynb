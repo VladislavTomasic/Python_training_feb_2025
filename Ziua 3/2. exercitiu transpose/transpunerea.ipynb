{
 "cells": [
  {
   "cell_type": "code",
   "execution_count": 1,
   "metadata": {},
   "outputs": [],
   "source": [
    "import pandas as pd"
   ]
  },
  {
   "cell_type": "code",
   "execution_count": 3,
   "metadata": {},
   "outputs": [
    {
     "data": {
      "text/html": [
       "<div>\n",
       "<style scoped>\n",
       "    .dataframe tbody tr th:only-of-type {\n",
       "        vertical-align: middle;\n",
       "    }\n",
       "\n",
       "    .dataframe tbody tr th {\n",
       "        vertical-align: top;\n",
       "    }\n",
       "\n",
       "    .dataframe thead th {\n",
       "        text-align: right;\n",
       "    }\n",
       "</style>\n",
       "<table border=\"1\" class=\"dataframe\">\n",
       "  <thead>\n",
       "    <tr style=\"text-align: right;\">\n",
       "      <th></th>\n",
       "      <th>PRUDENT001</th>\n",
       "      <th>PRUDENT001.1</th>\n",
       "      <th>Scutire de plata a primelor</th>\n",
       "      <th>Invaliditate permanenta din accident</th>\n",
       "      <th>Invaliditate permanenta din accident.1</th>\n",
       "      <th>Diagnosticare cu cancer si tratament</th>\n",
       "      <th>Diagnosticare cu cancer si tratament.1</th>\n",
       "      <th>Pierderea involuntara a locului de munca</th>\n",
       "      <th>Pierderea involuntara a locului de munca.1</th>\n",
       "    </tr>\n",
       "  </thead>\n",
       "  <tbody>\n",
       "    <tr>\n",
       "      <th>0</th>\n",
       "      <td>Test Case</td>\n",
       "      <td>An</td>\n",
       "      <td>Prima Anuala</td>\n",
       "      <td>Suma Asigurata</td>\n",
       "      <td>Prima Anuala</td>\n",
       "      <td>Suma Asigurata</td>\n",
       "      <td>Prima Anuala</td>\n",
       "      <td>Suma Asigurata</td>\n",
       "      <td>Prima Anuala</td>\n",
       "    </tr>\n",
       "    <tr>\n",
       "      <th>1</th>\n",
       "      <td>PRUDENT001</td>\n",
       "      <td>1</td>\n",
       "      <td>111.48</td>\n",
       "      <td>75500.00</td>\n",
       "      <td>226.56</td>\n",
       "      <td>55500.00</td>\n",
       "      <td>311.76</td>\n",
       "      <td>2000.00</td>\n",
       "      <td>384.00</td>\n",
       "    </tr>\n",
       "    <tr>\n",
       "      <th>2</th>\n",
       "      <td>PRUDENT001</td>\n",
       "      <td>2</td>\n",
       "      <td>112.92</td>\n",
       "      <td>75500.00</td>\n",
       "      <td>226.56</td>\n",
       "      <td>55500.00</td>\n",
       "      <td>340.08</td>\n",
       "      <td>2000.00</td>\n",
       "      <td>384.00</td>\n",
       "    </tr>\n",
       "  </tbody>\n",
       "</table>\n",
       "</div>"
      ],
      "text/plain": [
       "   PRUDENT001 PRUDENT001.1 Scutire de plata a primelor  \\\n",
       "0   Test Case           An                Prima Anuala   \n",
       "1  PRUDENT001            1                      111.48   \n",
       "2  PRUDENT001            2                      112.92   \n",
       "\n",
       "  Invaliditate permanenta din accident Invaliditate permanenta din accident.1  \\\n",
       "0                       Suma Asigurata                           Prima Anuala   \n",
       "1                             75500.00                                 226.56   \n",
       "2                             75500.00                                 226.56   \n",
       "\n",
       "  Diagnosticare cu cancer si tratament Diagnosticare cu cancer si tratament.1  \\\n",
       "0                       Suma Asigurata                           Prima Anuala   \n",
       "1                             55500.00                                 311.76   \n",
       "2                             55500.00                                 340.08   \n",
       "\n",
       "  Pierderea involuntara a locului de munca  \\\n",
       "0                           Suma Asigurata   \n",
       "1                                  2000.00   \n",
       "2                                  2000.00   \n",
       "\n",
       "  Pierderea involuntara a locului de munca.1  \n",
       "0                               Prima Anuala  \n",
       "1                                     384.00  \n",
       "2                                     384.00  "
      ]
     },
     "execution_count": 3,
     "metadata": {},
     "output_type": "execute_result"
    }
   ],
   "source": [
    "filename=\"de_transpus.csv\"\n",
    "df=pd.read_csv(filename)\n",
    "df.head(3)"
   ]
  },
  {
   "cell_type": "code",
   "execution_count": 4,
   "metadata": {},
   "outputs": [
    {
     "data": {
      "text/plain": [
       "<bound method NDFrame.head of                                                         0           1   \\\n",
       "PRUDENT001                                       Test Case  PRUDENT001   \n",
       "PRUDENT001.1                                            An           1   \n",
       "Scutire de plata a primelor                   Prima Anuala      111.48   \n",
       "Invaliditate permanenta din accident        Suma Asigurata    75500.00   \n",
       "Invaliditate permanenta din accident.1        Prima Anuala      226.56   \n",
       "Diagnosticare cu cancer si tratament        Suma Asigurata    55500.00   \n",
       "Diagnosticare cu cancer si tratament.1        Prima Anuala      311.76   \n",
       "Pierderea involuntara a locului de munca    Suma Asigurata     2000.00   \n",
       "Pierderea involuntara a locului de munca.1    Prima Anuala      384.00   \n",
       "\n",
       "                                                    2           3   \\\n",
       "PRUDENT001                                  PRUDENT001  PRUDENT001   \n",
       "PRUDENT001.1                                         2           3   \n",
       "Scutire de plata a primelor                     112.92      113.28   \n",
       "Invaliditate permanenta din accident          75500.00    75500.00   \n",
       "Invaliditate permanenta din accident.1          226.56      226.56   \n",
       "Diagnosticare cu cancer si tratament          55500.00    55500.00   \n",
       "Diagnosticare cu cancer si tratament.1          340.08      348.00   \n",
       "Pierderea involuntara a locului de munca       2000.00     2000.00   \n",
       "Pierderea involuntara a locului de munca.1      384.00      384.00   \n",
       "\n",
       "                                                    4           5   \\\n",
       "PRUDENT001                                  PRUDENT001  PRUDENT001   \n",
       "PRUDENT001.1                                         4           5   \n",
       "Scutire de plata a primelor                     113.76      114.24   \n",
       "Invaliditate permanenta din accident          75500.00    75500.00   \n",
       "Invaliditate permanenta din accident.1          226.56      226.56   \n",
       "Diagnosticare cu cancer si tratament          55500.00    55500.00   \n",
       "Diagnosticare cu cancer si tratament.1          357.00      366.60   \n",
       "Pierderea involuntara a locului de munca       2000.00     2000.00   \n",
       "Pierderea involuntara a locului de munca.1      384.00      384.00   \n",
       "\n",
       "                                                    6           7   \\\n",
       "PRUDENT001                                  PRUDENT001  PRUDENT001   \n",
       "PRUDENT001.1                                         6           7   \n",
       "Scutire de plata a primelor                     114.72      115.92   \n",
       "Invaliditate permanenta din accident          75500.00    75500.00   \n",
       "Invaliditate permanenta din accident.1          226.56      226.56   \n",
       "Diagnosticare cu cancer si tratament          55500.00    55500.00   \n",
       "Diagnosticare cu cancer si tratament.1          376.92      399.24   \n",
       "Pierderea involuntara a locului de munca       2000.00     2000.00   \n",
       "Pierderea involuntara a locului de munca.1      384.00      384.00   \n",
       "\n",
       "                                                    8           9           10  \n",
       "PRUDENT001                                  PRUDENT001  PRUDENT001  PRUDENT001  \n",
       "PRUDENT001.1                                         8           9          10  \n",
       "Scutire de plata a primelor                     116.52      117.24      117.96  \n",
       "Invaliditate permanenta din accident          75500.00    75500.00    75500.00  \n",
       "Invaliditate permanenta din accident.1          226.56      226.56      226.56  \n",
       "Diagnosticare cu cancer si tratament          55500.00    55500.00    55500.00  \n",
       "Diagnosticare cu cancer si tratament.1          411.96      425.76      441.48  \n",
       "Pierderea involuntara a locului de munca       2000.00     2000.00     2000.00  \n",
       "Pierderea involuntara a locului de munca.1      384.00      384.00      384.00  >"
      ]
     },
     "execution_count": 4,
     "metadata": {},
     "output_type": "execute_result"
    }
   ],
   "source": [
    "df_transposed=df.transpose()\n",
    "df_transposed.head"
   ]
  },
  {
   "cell_type": "code",
   "execution_count": 7,
   "metadata": {},
   "outputs": [
    {
     "data": {
      "text/plain": [
       "<bound method NDFrame.head of                                                         0           1   \\\n",
       "PRUDENT001                                       Test Case  PRUDENT001   \n",
       "PRUDENT001.1                                            An           1   \n",
       "Scutire de plata a primelor                   Prima Anuala      111.48   \n",
       "Invaliditate permanenta din accident        Suma Asigurata    75500.00   \n",
       "Invaliditate permanenta din accident.1        Prima Anuala      226.56   \n",
       "Diagnosticare cu cancer si tratament        Suma Asigurata    55500.00   \n",
       "Diagnosticare cu cancer si tratament.1        Prima Anuala      311.76   \n",
       "Pierderea involuntara a locului de munca    Suma Asigurata     2000.00   \n",
       "Pierderea involuntara a locului de munca.1    Prima Anuala      384.00   \n",
       "\n",
       "                                                    2           3   \\\n",
       "PRUDENT001                                  PRUDENT001  PRUDENT001   \n",
       "PRUDENT001.1                                         2           3   \n",
       "Scutire de plata a primelor                     112.92      113.28   \n",
       "Invaliditate permanenta din accident          75500.00    75500.00   \n",
       "Invaliditate permanenta din accident.1          226.56      226.56   \n",
       "Diagnosticare cu cancer si tratament          55500.00    55500.00   \n",
       "Diagnosticare cu cancer si tratament.1          340.08      348.00   \n",
       "Pierderea involuntara a locului de munca       2000.00     2000.00   \n",
       "Pierderea involuntara a locului de munca.1      384.00      384.00   \n",
       "\n",
       "                                                    4           5   \\\n",
       "PRUDENT001                                  PRUDENT001  PRUDENT001   \n",
       "PRUDENT001.1                                         4           5   \n",
       "Scutire de plata a primelor                     113.76      114.24   \n",
       "Invaliditate permanenta din accident          75500.00    75500.00   \n",
       "Invaliditate permanenta din accident.1          226.56      226.56   \n",
       "Diagnosticare cu cancer si tratament          55500.00    55500.00   \n",
       "Diagnosticare cu cancer si tratament.1          357.00      366.60   \n",
       "Pierderea involuntara a locului de munca       2000.00     2000.00   \n",
       "Pierderea involuntara a locului de munca.1      384.00      384.00   \n",
       "\n",
       "                                                    6           7   \\\n",
       "PRUDENT001                                  PRUDENT001  PRUDENT001   \n",
       "PRUDENT001.1                                         6           7   \n",
       "Scutire de plata a primelor                     114.72      115.92   \n",
       "Invaliditate permanenta din accident          75500.00    75500.00   \n",
       "Invaliditate permanenta din accident.1          226.56      226.56   \n",
       "Diagnosticare cu cancer si tratament          55500.00    55500.00   \n",
       "Diagnosticare cu cancer si tratament.1          376.92      399.24   \n",
       "Pierderea involuntara a locului de munca       2000.00     2000.00   \n",
       "Pierderea involuntara a locului de munca.1      384.00      384.00   \n",
       "\n",
       "                                                    8           9           10  \n",
       "PRUDENT001                                  PRUDENT001  PRUDENT001  PRUDENT001  \n",
       "PRUDENT001.1                                         8           9          10  \n",
       "Scutire de plata a primelor                     116.52      117.24      117.96  \n",
       "Invaliditate permanenta din accident          75500.00    75500.00    75500.00  \n",
       "Invaliditate permanenta din accident.1          226.56      226.56      226.56  \n",
       "Diagnosticare cu cancer si tratament          55500.00    55500.00    55500.00  \n",
       "Diagnosticare cu cancer si tratament.1          411.96      425.76      441.48  \n",
       "Pierderea involuntara a locului de munca       2000.00     2000.00     2000.00  \n",
       "Pierderea involuntara a locului de munca.1      384.00      384.00      384.00  >"
      ]
     },
     "execution_count": 7,
     "metadata": {},
     "output_type": "execute_result"
    }
   ],
   "source": [
    "df_transposed2=df.T\n",
    "df_transposed2.head"
   ]
  },
  {
   "cell_type": "code",
   "execution_count": 8,
   "metadata": {},
   "outputs": [],
   "source": [
    "import csv"
   ]
  },
  {
   "cell_type": "code",
   "execution_count": 9,
   "metadata": {},
   "outputs": [
    {
     "name": "stdout",
     "output_type": "stream",
     "text": [
      "<class 'str'>\n"
     ]
    }
   ],
   "source": [
    "with open(filename, \"r\") as file_reader:\n",
    "    continut=file_reader.read()\n",
    "    print(type(continut))"
   ]
  },
  {
   "cell_type": "code",
   "execution_count": 11,
   "metadata": {},
   "outputs": [
    {
     "name": "stdout",
     "output_type": "stream",
     "text": [
      "<class 'list'>\n"
     ]
    }
   ],
   "source": [
    "with open(filename, \"r\") as file_reader:\n",
    "    csv_file_reader=csv.reader(file_reader)\n",
    "    continut = [i for i in csv_file_reader]\n",
    "    print(type(continut))"
   ]
  },
  {
   "cell_type": "code",
   "execution_count": 12,
   "metadata": {},
   "outputs": [
    {
     "data": {
      "text/plain": [
       "12"
      ]
     },
     "execution_count": 12,
     "metadata": {},
     "output_type": "execute_result"
    }
   ],
   "source": [
    "len(continut)"
   ]
  },
  {
   "cell_type": "code",
   "execution_count": 13,
   "metadata": {},
   "outputs": [
    {
     "data": {
      "text/plain": [
       "9"
      ]
     },
     "execution_count": 13,
     "metadata": {},
     "output_type": "execute_result"
    }
   ],
   "source": [
    "len(continut[0])"
   ]
  },
  {
   "cell_type": "code",
   "execution_count": 15,
   "metadata": {},
   "outputs": [
    {
     "data": {
      "text/plain": [
       "[('Rosu', 'Sange', 0), ('Negru', 'Costum', 1), ('Verde', 'IArba', 2)]"
      ]
     },
     "execution_count": 15,
     "metadata": {},
     "output_type": "execute_result"
    }
   ],
   "source": [
    "lista_1=[\"Rosu\",\"Negru\",\"Verde\"]\n",
    "lista_2=[\"Sange\",\"Costum\",\"IArba\"]\n",
    "lista_3=range(3)\n",
    "list(zip(lista_1,lista_2,lista_3))"
   ]
  },
  {
   "cell_type": "code",
   "execution_count": 24,
   "metadata": {},
   "outputs": [],
   "source": [
    "continut_transpus=list(zip((*continut)))"
   ]
  },
  {
   "cell_type": "code",
   "execution_count": 28,
   "metadata": {},
   "outputs": [
    {
     "ename": "TypeError",
     "evalue": "'list' object is not callable",
     "output_type": "error",
     "traceback": [
      "\u001b[1;31m---------------------------------------------------------------------------\u001b[0m",
      "\u001b[1;31mTypeError\u001b[0m                                 Traceback (most recent call last)",
      "Cell \u001b[1;32mIn [28], line 1\u001b[0m\n\u001b[1;32m----> 1\u001b[0m \u001b[39mlen\u001b[39m(continut_transpus(\u001b[39m0\u001b[39;49m))\n",
      "\u001b[1;31mTypeError\u001b[0m: 'list' object is not callable"
     ]
    }
   ],
   "source": [
    "len(continut_transpus(0))"
   ]
  },
  {
   "cell_type": "code",
   "execution_count": null,
   "metadata": {},
   "outputs": [],
   "source": [
    "with open(\"continut_transpus.csv\",\"w\") as file_writer:\n",
    "    csv_file_writer=csv.writer(file_writer)\n",
    "    csv_file_writer.writerows(continut_transpus)\n"
   ]
  }
 ],
 "metadata": {
  "kernelspec": {
   "display_name": "Python 3.8.10 64-bit",
   "language": "python",
   "name": "python3"
  },
  "language_info": {
   "codemirror_mode": {
    "name": "ipython",
    "version": 3
   },
   "file_extension": ".py",
   "mimetype": "text/x-python",
   "name": "python",
   "nbconvert_exporter": "python",
   "pygments_lexer": "ipython3",
   "version": "3.8.10"
  },
  "orig_nbformat": 4,
  "vscode": {
   "interpreter": {
    "hash": "ca4ca7b067c1df730d5ff87af37a86f0adf7ce0ec5c3598421698b0881dd43f9"
   }
  }
 },
 "nbformat": 4,
 "nbformat_minor": 2
}
